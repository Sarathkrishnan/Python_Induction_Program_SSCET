{
 "cells": [
  {
   "cell_type": "markdown",
   "metadata": {},
   "source": [
    "# What is python"
   ]
  },
  {
   "cell_type": "markdown",
   "metadata": {},
   "source": [
    "# Basic Syntax and Data Type"
   ]
  },
  {
   "cell_type": "code",
   "execution_count": 1,
   "metadata": {},
   "outputs": [
    {
     "name": "stdout",
     "output_type": "stream",
     "text": [
      "Hello world\n"
     ]
    }
   ],
   "source": [
    "# print hello world\n",
    "print(\"Hello world\")"
   ]
  },
  {
   "cell_type": "markdown",
   "metadata": {},
   "source": [
    "## Printing to console\n",
    "1. By using ' or \" print string infomation in computer screen or console."
   ]
  },
  {
   "cell_type": "code",
   "execution_count": 2,
   "metadata": {},
   "outputs": [
    {
     "name": "stdout",
     "output_type": "stream",
     "text": [
      "Hello World\n",
      "Welcome\n"
     ]
    }
   ],
   "source": [
    "print(\"Hello World\")\n",
    "print(\"Welcome\")"
   ]
  },
  {
   "cell_type": "code",
   "execution_count": 3,
   "metadata": {},
   "outputs": [],
   "source": [
    "# print your name using print()"
   ]
  },
  {
   "cell_type": "markdown",
   "metadata": {},
   "source": [
    "### Printing number into console\n",
    "1. We can directly print the number into console `without qoutes`\n",
    "2. By using print statement we `can do arithmetic operations`\n",
    "3. We can `print more than one value` seperated by `commas`\n",
    "4. By using `paranthesis()` we can control operations priority"
   ]
  },
  {
   "cell_type": "code",
   "execution_count": 4,
   "metadata": {},
   "outputs": [
    {
     "name": "stdout",
     "output_type": "stream",
     "text": [
      "15\n",
      "21 120\n",
      "65536\n",
      "12.333333333333334\n",
      "12\n",
      "1\n"
     ]
    }
   ],
   "source": [
    "# example of arithmetic operation\n",
    "print(5 + 10)\n",
    "\n",
    "# control operation precedence using paranthesis ()\n",
    "print(3 * 7, (17 - 2) * 8)\n",
    "\n",
    "# perform exponentiation using '**'\n",
    "print(2**16)\n",
    "\n",
    "# Single forward slash is division\n",
    "print(37 / 3)\n",
    "\n",
    "# Integer division using //\n",
    "# return only the quotient of the division, no remainder\n",
    "print(37 // 3)\n",
    "\n",
    "# Give remainder value by moduleus operator %\n",
    "print(37 % 3)\n",
    "# return 1 remainder\n",
    "# 37 = 13 * 3 + 1"
   ]
  },
  {
   "cell_type": "markdown",
   "metadata": {},
   "source": [
    "## Variable and assignment"
   ]
  },
  {
   "cell_type": "code",
   "execution_count": 5,
   "metadata": {},
   "outputs": [
    {
     "name": "stdout",
     "output_type": "stream",
     "text": [
      "user name: Kavin\n",
      "user salary: 30000\n",
      "updated user salary 35000\n"
     ]
    }
   ],
   "source": [
    "# create vaiable\n",
    "user_name = \"Kavin\"\n",
    "user_salary = 30000\n",
    "\n",
    "# accessing data using variable name\n",
    "print(\"user name:\", user_name)\n",
    "print(\"user salary:\", user_salary)\n",
    "\n",
    "# perform manupulation on data\n",
    "# increse user_salary by 5000\n",
    "user_salary = user_salary + 5000\n",
    "print(\"updated user salary\", user_salary)"
   ]
  },
  {
   "cell_type": "code",
   "execution_count": 6,
   "metadata": {},
   "outputs": [
    {
     "name": "stdout",
     "output_type": "stream",
     "text": [
      "250\n"
     ]
    }
   ],
   "source": [
    "# example: calculating sum of two number\n",
    "\n",
    "number_1 = 100\n",
    "number_2 = 150\n",
    "\n",
    "sum = number_1 + number_2\n",
    "\n",
    "print(sum)"
   ]
  },
  {
   "cell_type": "markdown",
   "metadata": {},
   "source": [
    "## Basic data types\n",
    "1. Numeric Data Types\n",
    "    1. Int\n",
    "    2. Float\n",
    "2. String data types\n",
    "3. Boolean Data types\n",
    "4. Sequence Data types\n",
    "    1. List\n",
    "    2. Tuple\n",
    "    3. Range\n",
    "5. Dictionary data type\n",
    "6. Set\n",
    "7. Frozenset\n",
    "\n",
    "Determining types using `type()`\n",
    "Type conversion using `int()`, `float()`, `str()`"
   ]
  },
  {
   "cell_type": "code",
   "execution_count": 7,
   "metadata": {},
   "outputs": [],
   "source": [
    "# int: Represent integer numbers(whole numbers without decimal part)\n",
    "\n",
    "age = 30\n",
    "count = 10"
   ]
  },
  {
   "cell_type": "code",
   "execution_count": 8,
   "metadata": {},
   "outputs": [],
   "source": [
    "# float : Represents floating-point numbers (numbers with decimals).\n",
    "price = 9.00\n",
    "height = 1.75"
   ]
  },
  {
   "cell_type": "code",
   "execution_count": 9,
   "metadata": {},
   "outputs": [],
   "source": [
    "# string : Represents sequences of characters (text).\n",
    "# representation methods\n",
    "\n",
    "# 1. using double qoutes\n",
    "name = \"Aakam360\"\n",
    "\n",
    "# 2. using the single qoutes\n",
    "greeting = \"Hello, world!\"\n",
    "\n",
    "# 3. Tripple qoutes\n",
    "song = \"\"\"line 1\n",
    "line 2\n",
    "line 3\"\"\""
   ]
  },
  {
   "cell_type": "code",
   "execution_count": 10,
   "metadata": {},
   "outputs": [],
   "source": [
    "# boolean : Represents truth values (True or False).\n",
    "is_adult = True\n",
    "is_raining = False"
   ]
  },
  {
   "cell_type": "code",
   "execution_count": 11,
   "metadata": {},
   "outputs": [],
   "source": [
    "# list data :  An ordered collection of items, which can be of different data types. Mutable (can be changed).\n",
    "fruits = [\"apple\", \"banana\", \"orange\"]\n",
    "number = [1, 2, 3, 4]"
   ]
  },
  {
   "cell_type": "code",
   "execution_count": 12,
   "metadata": {},
   "outputs": [],
   "source": [
    "# tuple : An ordered collection of items, similar to lists but immutable (cannot be changed).\n",
    "coordinates = (3, 4)\n",
    "person = (\"Alice\", 30)"
   ]
  },
  {
   "cell_type": "code",
   "execution_count": 13,
   "metadata": {},
   "outputs": [],
   "source": [
    "# range: Represents a sequence of numbers.\n",
    "numbers = range(1, 10)  # Generates numbers from 1 to 9"
   ]
  },
  {
   "cell_type": "code",
   "execution_count": 14,
   "metadata": {},
   "outputs": [],
   "source": [
    "# dict: An unorderd college of key-value pair\n",
    "person = {\n",
    "    \"name\": \"Alice\",\n",
    "    \"age\": 30,\n",
    "    \"city\": \"New York\"\n",
    "}"
   ]
  },
  {
   "cell_type": "markdown",
   "metadata": {},
   "source": [
    "## Simple Arithmetic Operations\n"
   ]
  },
  {
   "cell_type": "code",
   "execution_count": null,
   "metadata": {},
   "outputs": [],
   "source": [
    "print(17 / 3)  # gives 5.66666666667\n",
    "print(2 ** 4)  # gives 16\n",
    "print(2 ** -2) # gives 0.25"
   ]
  },
  {
   "cell_type": "code",
   "execution_count": null,
   "metadata": {},
   "outputs": [],
   "source": [
    "print(17 / 3)   # gives 5.66666666667\n",
    "print(17 // 3)  # gives 5\n",
    "print(17 % 3)   # gives 2"
   ]
  },
  {
   "cell_type": "markdown",
   "metadata": {},
   "source": [
    "### Understand type by `type()` function"
   ]
  },
  {
   "cell_type": "code",
   "execution_count": 18,
   "metadata": {},
   "outputs": [
    {
     "name": "stdout",
     "output_type": "stream",
     "text": [
      "<class 'int'>\n",
      "<class 'float'>\n",
      "Aakam360\n"
     ]
    }
   ],
   "source": [
    "print(type(2))\n",
    "print(type(4.5))\n",
    "print(\"Aakam360\")"
   ]
  },
  {
   "cell_type": "markdown",
   "metadata": {},
   "source": [
    "## Type converison : We can convert the type"
   ]
  },
  {
   "cell_type": "code",
   "execution_count": 19,
   "metadata": {},
   "outputs": [
    {
     "name": "stdout",
     "output_type": "stream",
     "text": [
      "Before type conversion  134.56\n",
      "After type conversion  134\n"
     ]
    }
   ],
   "source": [
    "\n",
    "price = 134.56\n",
    "print(\"Before type conversion \", price)\n",
    "\n",
    "price = int(price)\n",
    "print(\"After type conversion \", price)"
   ]
  },
  {
   "cell_type": "markdown",
   "metadata": {},
   "source": [
    "## excerces"
   ]
  },
  {
   "cell_type": "markdown",
   "metadata": {},
   "source": [
    "# Input and output"
   ]
  },
  {
   "cell_type": "markdown",
   "metadata": {},
   "source": [
    "## Taking user input"
   ]
  },
  {
   "cell_type": "markdown",
   "metadata": {},
   "source": [
    "## `input()` function\n",
    "inputing data from user"
   ]
  },
  {
   "cell_type": "code",
   "execution_count": null,
   "metadata": {},
   "outputs": [],
   "source": [
    "name = input(\"Enter your name:\")\n",
    "print(\"hello, \", name)"
   ]
  },
  {
   "cell_type": "code",
   "execution_count": null,
   "metadata": {},
   "outputs": [],
   "source": [
    "# what is type of data returned by input\n",
    "name = input(\"Input a number\")\n",
    "\n",
    "# how i convert the data"
   ]
  },
  {
   "cell_type": "markdown",
   "metadata": {},
   "source": [
    "## Output\n",
    "1. Print()\n",
    "2. Formatting Output"
   ]
  },
  {
   "cell_type": "code",
   "execution_count": 20,
   "metadata": {},
   "outputs": [
    {
     "name": "stdout",
     "output_type": "stream",
     "text": [
      "Hello, Alice! You are 30 year old.\n"
     ]
    }
   ],
   "source": [
    "name = \"Alice\"\n",
    "age = 30\n",
    "\n",
    "print(f\"Hello, {name}! You are {age} year old.\")"
   ]
  }
 ],
 "metadata": {
  "kernelspec": {
   "display_name": "Python 3",
   "language": "python",
   "name": "python3"
  },
  "language_info": {
   "codemirror_mode": {
    "name": "ipython",
    "version": 3
   },
   "file_extension": ".py",
   "mimetype": "text/x-python",
   "name": "python",
   "nbconvert_exporter": "python",
   "pygments_lexer": "ipython3",
   "version": "3.12.4"
  }
 },
 "nbformat": 4,
 "nbformat_minor": 2
}
