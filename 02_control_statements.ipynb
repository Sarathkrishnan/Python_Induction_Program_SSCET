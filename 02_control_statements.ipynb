{
 "cells": [
  {
   "cell_type": "markdown",
   "metadata": {},
   "source": [
    "# Conditional Statements"
   ]
  },
  {
   "cell_type": "markdown",
   "metadata": {},
   "source": [
    "## if else"
   ]
  },
  {
   "cell_type": "code",
   "execution_count": 2,
   "metadata": {},
   "outputs": [
    {
     "name": "stdout",
     "output_type": "stream",
     "text": [
      "Phone unlocked\n"
     ]
    }
   ],
   "source": [
    "# project 1: phone screelock\n",
    "my_secret_phone_lock = 8765\n",
    "\n",
    "inputed_lock = int(input(\"Enter the lock: \"))\n",
    "if inputed_lock == my_secret_phone_lock:\n",
    "    print(\"Phone unlocked\")\n",
    "else:\n",
    "    print(\"Wrong lock, try again\")"
   ]
  },
  {
   "cell_type": "markdown",
   "metadata": {},
   "source": [
    "## elif ladder"
   ]
  },
  {
   "cell_type": "code",
   "execution_count": null,
   "metadata": {},
   "outputs": [],
   "source": [
    "\"\"\"\n",
    "Project 2: Lift program\n",
    "Our lift has 1 - 10 option(10 floors) \n",
    "\"\"\"\n",
    "\n",
    "user_floor_choice = int(input(\"Enter your floor choice: \"))\n",
    "\n",
    "if(user_floor_choice==1):\n",
    "    print(\"We are goinng to 1 floor\")\n",
    "elif (user_floor_choice==2):\n",
    "    print(\"We are going to 2 floor\")\n",
    "elif (user_floor_choice==3):\n",
    "    print(\"We are going to 3 floor\")\n",
    "elif (user_floor_choice==4):\n",
    "    print(\"We are going to 4 floor\")\n",
    "elif (user_floor_choice==5):\n",
    "    print(\"We are going to 5 floor\")\n",
    "elif (user_floor_choice==6):\n",
    "    print(\"We are going to 6 floor\")\n",
    "else:\n",
    "    print(\"Invalid floor option\")"
   ]
  },
  {
   "cell_type": "markdown",
   "metadata": {},
   "source": [
    "# Excercise"
   ]
  },
  {
   "cell_type": "markdown",
   "metadata": {},
   "source": [
    "# Loops"
   ]
  },
  {
   "cell_type": "markdown",
   "metadata": {},
   "source": [
    "## For loop"
   ]
  },
  {
   "cell_type": "markdown",
   "metadata": {},
   "source": [
    "## while loop"
   ]
  },
  {
   "cell_type": "markdown",
   "metadata": {},
   "source": [
    "## break and continue"
   ]
  },
  {
   "cell_type": "markdown",
   "metadata": {},
   "source": [
    "# Excercises\n",
    "1. Number guessing game"
   ]
  }
 ],
 "metadata": {
  "kernelspec": {
   "display_name": "Python 3",
   "language": "python",
   "name": "python3"
  },
  "language_info": {
   "codemirror_mode": {
    "name": "ipython",
    "version": 3
   },
   "file_extension": ".py",
   "mimetype": "text/x-python",
   "name": "python",
   "nbconvert_exporter": "python",
   "pygments_lexer": "ipython3",
   "version": "3.12.4"
  }
 },
 "nbformat": 4,
 "nbformat_minor": 2
}
